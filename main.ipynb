{
 "cells": [
  {
   "cell_type": "code",
   "execution_count": 1,
   "metadata": {},
   "outputs": [],
   "source": [
    "%load_ext autoreload\n",
    "%autoreload 2"
   ]
  },
  {
   "cell_type": "code",
   "execution_count": 3,
   "metadata": {},
   "outputs": [
    {
     "name": "stderr",
     "output_type": "stream",
     "text": [
      "Downloading...\n",
      "From: https://drive.google.com/u/0/uc?id=11ozVs6zByFjs9viD3VIIP6qKFgjZwv9E&export=download\n",
      "To: /home/roger/code/xkeeja/corpy-assessment/screws.zip\n",
      "100%|██████████| 195M/195M [00:07<00:00, 27.3MB/s] \n"
     ]
    },
    {
     "name": "stdout",
     "output_type": "stream",
     "text": [
      "Unzipping file...\n",
      "Data successfully unzipped to data/archive.\n",
      "Deleting zip file...\n",
      "Deleted zip file.\n"
     ]
    }
   ],
   "source": [
    "from corpy.get_data.get_data import data_download\n",
    "\n",
    "data_download()"
   ]
  }
 ],
 "metadata": {
  "kernelspec": {
   "display_name": "corpy",
   "language": "python",
   "name": "python3"
  },
  "language_info": {
   "codemirror_mode": {
    "name": "ipython",
    "version": 3
   },
   "file_extension": ".py",
   "mimetype": "text/x-python",
   "name": "python",
   "nbconvert_exporter": "python",
   "pygments_lexer": "ipython3",
   "version": "3.10.6"
  },
  "orig_nbformat": 4,
  "vscode": {
   "interpreter": {
    "hash": "20907d215214c6d72cb244ebc8bd283ce97b32b6cc8bdf0dcd140f83c1e88dbf"
   }
  }
 },
 "nbformat": 4,
 "nbformat_minor": 2
}
